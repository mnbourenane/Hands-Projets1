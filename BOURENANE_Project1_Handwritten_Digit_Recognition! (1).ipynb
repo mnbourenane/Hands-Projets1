{
  "nbformat": 4,
  "nbformat_minor": 0,
  "metadata": {
    "colab": {
      "provenance": []
    },
    "kernelspec": {
      "name": "python3",
      "display_name": "Python 3"
    },
    "language_info": {
      "name": "python"
    }
  },
  "cells": [
    {
      "cell_type": "markdown",
      "source": [
        "**Handwritten Digit Recognition Project**\n",
        "*   Loading the MNIST Dataset"
      ],
      "metadata": {
        "id": "mtKoX8inggNs"
      }
    },
    {
      "cell_type": "code",
      "execution_count": 2,
      "metadata": {
        "id": "D4Gp5k76gTro",
        "colab": {
          "base_uri": "https://localhost:8080/"
        },
        "outputId": "da18e8c4-256f-4225-e3eb-e2d2b64da391"
      },
      "outputs": [
        {
          "output_type": "stream",
          "name": "stdout",
          "text": [
            "Downloading http://yann.lecun.com/exdb/mnist/train-images-idx3-ubyte.gz\n",
            "Downloading http://yann.lecun.com/exdb/mnist/train-images-idx3-ubyte.gz to ./data/MNIST/raw/train-images-idx3-ubyte.gz\n"
          ]
        },
        {
          "output_type": "stream",
          "name": "stderr",
          "text": [
            "100%|██████████| 9912422/9912422 [00:00<00:00, 114678330.36it/s]\n"
          ]
        },
        {
          "output_type": "stream",
          "name": "stdout",
          "text": [
            "Extracting ./data/MNIST/raw/train-images-idx3-ubyte.gz to ./data/MNIST/raw\n",
            "\n",
            "Downloading http://yann.lecun.com/exdb/mnist/train-labels-idx1-ubyte.gz\n",
            "Downloading http://yann.lecun.com/exdb/mnist/train-labels-idx1-ubyte.gz to ./data/MNIST/raw/train-labels-idx1-ubyte.gz\n"
          ]
        },
        {
          "output_type": "stream",
          "name": "stderr",
          "text": [
            "100%|██████████| 28881/28881 [00:00<00:00, 20455199.90it/s]\n"
          ]
        },
        {
          "output_type": "stream",
          "name": "stdout",
          "text": [
            "Extracting ./data/MNIST/raw/train-labels-idx1-ubyte.gz to ./data/MNIST/raw\n",
            "\n",
            "Downloading http://yann.lecun.com/exdb/mnist/t10k-images-idx3-ubyte.gz\n",
            "Downloading http://yann.lecun.com/exdb/mnist/t10k-images-idx3-ubyte.gz to ./data/MNIST/raw/t10k-images-idx3-ubyte.gz\n"
          ]
        },
        {
          "output_type": "stream",
          "name": "stderr",
          "text": [
            "100%|██████████| 1648877/1648877 [00:00<00:00, 30761357.31it/s]\n"
          ]
        },
        {
          "output_type": "stream",
          "name": "stdout",
          "text": [
            "Extracting ./data/MNIST/raw/t10k-images-idx3-ubyte.gz to ./data/MNIST/raw\n",
            "\n",
            "Downloading http://yann.lecun.com/exdb/mnist/t10k-labels-idx1-ubyte.gz\n",
            "Downloading http://yann.lecun.com/exdb/mnist/t10k-labels-idx1-ubyte.gz to ./data/MNIST/raw/t10k-labels-idx1-ubyte.gz\n"
          ]
        },
        {
          "output_type": "stream",
          "name": "stderr",
          "text": [
            "100%|██████████| 4542/4542 [00:00<00:00, 3326441.20it/s]\n"
          ]
        },
        {
          "output_type": "stream",
          "name": "stdout",
          "text": [
            "Extracting ./data/MNIST/raw/t10k-labels-idx1-ubyte.gz to ./data/MNIST/raw\n",
            "\n"
          ]
        }
      ],
      "source": [
        "# Import necessary libraries\n",
        "import torch\n",
        "from torchvision import datasets, transforms\n",
        "from torch.utils.data import DataLoader\n",
        "\n",
        "# TODO: Define a transform to normalize the data\n",
        "transform = transforms.Compose([transforms.ToTensor(),\n",
        "                                transforms.Normalize((0.5,), (0.5,))])\n",
        "\n",
        "# TODO: Load the MNIST dataset\n",
        "train_set = datasets.MNIST(root='./data', train=True, download=True, transform=transform)\n",
        "test_set = datasets.MNIST(root='./data', train=False, download=True, transform=transform)\n",
        "\n",
        "# TODO: Create data loaders\n",
        "train_loader = DataLoader(train_set, batch_size=64, shuffle=True)\n",
        "test_loader = DataLoader(test_set, batch_size=64, shuffle=False)"
      ]
    },
    {
      "cell_type": "code",
      "source": [
        "# TODO: Figure out how many images are in the train_set and test_set.\n",
        "num_train_images = len(train_set)\n",
        "num_test_images = len(test_set)\n",
        "print(f\"the number of images in the train_set is : {num_train_images}\")\n",
        "print(f\"the number of images in the test_set is : {num_test_images}\")"
      ],
      "metadata": {
        "colab": {
          "base_uri": "https://localhost:8080/"
        },
        "id": "ne7HKz61hW83",
        "outputId": "1b12fc7b-f0e3-413f-cc1e-70afc72ab787"
      },
      "execution_count": null,
      "outputs": [
        {
          "output_type": "stream",
          "name": "stdout",
          "text": [
            "the number of images in the train_set is : 60000\n",
            "the number of images in the test_set is : 10000\n"
          ]
        }
      ]
    },
    {
      "cell_type": "markdown",
      "source": [
        "Building the Neural Network Model"
      ],
      "metadata": {
        "id": "8NWZGPS6lrlf"
      }
    },
    {
      "cell_type": "code",
      "source": [
        "# Import necessary PyTorch libraries\n",
        "import torch.nn as nn\n",
        "import torch.nn.functional as F\n",
        "\n",
        "# TODO: Define the neural network class\n",
        "class Net(nn.Module):\n",
        "    def __init__(self):\n",
        "        super(Net, self).__init__()\n",
        "        # TODO: Define layers of the neural network\n",
        "        self.fc1 = nn.Linear(28 * 28, 10) # First fully connected layer\n",
        "        #self.fc2 = nn.Linear(1024, 10)\n",
        "\n",
        "    def forward(self, x):\n",
        "        # Flatten the input tensor\n",
        "        x = x.view(-1, 28 * 28)\n",
        "        x = self.fc1(x)  # TODO: add an activation function\n",
        "        return x\n",
        "\n",
        "# Create an instance of the network\n",
        "model = Net()\n",
        "print(model)"
      ],
      "metadata": {
        "colab": {
          "base_uri": "https://localhost:8080/"
        },
        "id": "RyUkgL2oluJ5",
        "outputId": "110b8a89-1dcf-4ee5-849a-088a8f75aa4b"
      },
      "execution_count": 3,
      "outputs": [
        {
          "output_type": "stream",
          "name": "stdout",
          "text": [
            "Net(\n",
            "  (fc1): Linear(in_features=784, out_features=10, bias=True)\n",
            ")\n"
          ]
        }
      ]
    },
    {
      "cell_type": "code",
      "source": [
        "# Import necessary PyTorch libraries\n",
        "import torch.nn as nn\n",
        "import torch.nn.functional as F\n",
        "# TODO: Define the neural network class\n",
        "class ComplexNet(nn.Module):\n",
        "    def __init__(self):\n",
        "        super(ComplexNet, self).__init__()\n",
        "        # TODO: Define layers of the neural network\n",
        "        self.fc1 = nn.Linear(28*28, 1024) # First fully connected layer\n",
        "        self.fc2 = nn.Linear(1024, 128)\n",
        "        self.fc3 = nn.Linear(128, 10)\n",
        "        self.relu = nn.ReLU()\n",
        "\n",
        "    def forward(self, x):\n",
        "        # Flatten the input tensor\n",
        "        x = x.view(-1, 28 * 28)\n",
        "        x = self.fc1(x)\n",
        "        x = self.relu(x)\n",
        "        x = self.fc2(x)\n",
        "        x = self.relu(x)\n",
        "        x = self.fc3(x)\n",
        "        x = F.log_softmax(x, dim=1)\n",
        "        return x\n",
        "\n",
        "# Create an instance of the network\n",
        "model = ComplexNet()\n",
        "print(model)"
      ],
      "metadata": {
        "colab": {
          "base_uri": "https://localhost:8080/"
        },
        "id": "1CrMF9TwqzXv",
        "outputId": "081bf0a0-cb0e-4c2f-d342-669ee17e9d12"
      },
      "execution_count": 4,
      "outputs": [
        {
          "output_type": "stream",
          "name": "stdout",
          "text": [
            "ComplexNet(\n",
            "  (fc1): Linear(in_features=784, out_features=1024, bias=True)\n",
            "  (fc2): Linear(in_features=1024, out_features=128, bias=True)\n",
            "  (fc3): Linear(in_features=128, out_features=10, bias=True)\n",
            "  (relu): ReLU()\n",
            ")\n"
          ]
        }
      ]
    },
    {
      "cell_type": "markdown",
      "source": [
        "Training the Neural Network Model"
      ],
      "metadata": {
        "id": "EzowzdhRoNKd"
      }
    },
    {
      "cell_type": "code",
      "source": [
        "# TODO: Complete this code\n",
        "# Import optimizer\n",
        "from torch.optim import SGD\n",
        "\n",
        "# TODO: Define the loss function and optimizer\n",
        "criterion = nn.CrossEntropyLoss()\n",
        "optimizer = SGD(model.parameters(), lr=0.01)\n",
        "\n",
        "# TODO: Set the number of epochs\n",
        "num_epochs = 50\n",
        "hist_training_loss = []\n",
        "hist_test_loss = []\n",
        "\n",
        "# Training loop\n",
        "for epoch in range(num_epochs):\n",
        "    running_loss = 0.0\n",
        "    for images, labels in train_loader:\n",
        "        # TODO: Complete Training pass\n",
        "        optimizer.zero_grad()\n",
        "\n",
        "        # compute output\n",
        "        # compute loss\n",
        "        outputs = model(images)\n",
        "        loss = criterion(outputs, labels)\n",
        "\n",
        "        #execute backword and optimaze\n",
        "        loss.backward() #Compute Grandients\n",
        "        optimizer.step() #Adjust the weights\n",
        "\n",
        "        running_loss += loss.item()\n",
        "        hist_training_loss.append(running_loss)\n",
        "    else:\n",
        "        print(f\"Epoch {epoch+1}, Loss: {running_loss/len(train_loader)}\")\n",
        "\n",
        "    # TODO: evaluate on the test_loader\n",
        "    test_loss = 0.0\n",
        "    with torch.no_grad():\n",
        "     for images, labels in test_loader:\n",
        "        # TODO: Complete evaluation pass\n",
        "            outputs = model(images)\n",
        "            tloss = criterion(outputs, labels)\n",
        "\n",
        "            test_loss += loss.item()\n",
        "\n",
        "     else:\n",
        "         print(f\" Loss: {test_loss/len(test_loader)}\")\n",
        "         hist_test_loss.append(test_loader)\n",
        "\n",
        "print(\"Training is finished!\")"
      ],
      "metadata": {
        "colab": {
          "base_uri": "https://localhost:8080/"
        },
        "id": "6Tf3r8kloZ2a",
        "outputId": "06a572e4-1361-4aa8-cdee-37c02f834d20"
      },
      "execution_count": 5,
      "outputs": [
        {
          "output_type": "stream",
          "name": "stdout",
          "text": [
            "Epoch 1, Loss: 0.8800626897227282\n",
            " Loss: 0.44445762038230896\n",
            "Epoch 2, Loss: 0.3564326842742434\n",
            " Loss: 0.18901336193084717\n",
            "Epoch 3, Loss: 0.3028872857517652\n",
            " Loss: 0.09857916086912155\n",
            "Epoch 4, Loss: 0.2702061739732335\n",
            " Loss: 0.31728556752204895\n",
            "Epoch 5, Loss: 0.2444910007133794\n",
            " Loss: 0.13984699547290802\n",
            "Epoch 6, Loss: 0.22112270630101785\n",
            " Loss: 0.19363072514533997\n",
            "Epoch 7, Loss: 0.2010979885493578\n",
            " Loss: 0.1724274605512619\n",
            "Epoch 8, Loss: 0.18230634216449534\n",
            " Loss: 0.25332120060920715\n",
            "Epoch 9, Loss: 0.1659500282496087\n",
            " Loss: 0.09039642661809921\n",
            "Epoch 10, Loss: 0.1524081239993098\n",
            " Loss: 0.1422283798456192\n",
            "Epoch 11, Loss: 0.14014722672757754\n",
            " Loss: 0.06893481314182281\n",
            "Epoch 12, Loss: 0.12949539838767826\n",
            " Loss: 0.14046618342399597\n",
            "Epoch 13, Loss: 0.1203134152104955\n",
            " Loss: 0.41743263602256775\n",
            "Epoch 14, Loss: 0.11159641280976822\n",
            " Loss: 0.03148150444030762\n",
            "Epoch 15, Loss: 0.10376274965798804\n",
            " Loss: 0.06953120976686478\n",
            "Epoch 16, Loss: 0.09725567851978134\n",
            " Loss: 0.19266517460346222\n",
            "Epoch 17, Loss: 0.09112245890834152\n",
            " Loss: 0.17229512333869934\n",
            "Epoch 18, Loss: 0.08554695365128359\n",
            " Loss: 0.049652185291051865\n",
            "Epoch 19, Loss: 0.08041943493944559\n",
            " Loss: 0.02284366823732853\n",
            "Epoch 20, Loss: 0.07537694900993631\n",
            " Loss: 0.013576623983681202\n",
            "Epoch 21, Loss: 0.07153249667909767\n",
            " Loss: 0.1700916886329651\n",
            "Epoch 22, Loss: 0.06743153878527362\n",
            " Loss: 0.07757007330656052\n",
            "Epoch 23, Loss: 0.06405684171514565\n",
            " Loss: 0.02804137021303177\n",
            "Epoch 24, Loss: 0.0606896919635202\n",
            " Loss: 0.039166003465652466\n",
            "Epoch 25, Loss: 0.05737812970397569\n",
            " Loss: 0.035530347377061844\n",
            "Epoch 26, Loss: 0.05427887997200796\n",
            " Loss: 0.07080402970314026\n",
            "Epoch 27, Loss: 0.051763979720571306\n",
            " Loss: 0.12773793935775757\n",
            "Epoch 28, Loss: 0.04904238380459961\n",
            " Loss: 0.0076678297482430935\n",
            "Epoch 29, Loss: 0.04669838269819011\n",
            " Loss: 0.040530215948820114\n",
            "Epoch 30, Loss: 0.04440982423291834\n",
            " Loss: 0.08227488398551941\n",
            "Epoch 31, Loss: 0.042181257253586214\n",
            " Loss: 0.022646328434348106\n",
            "Epoch 32, Loss: 0.04046239085154914\n",
            " Loss: 0.01792251132428646\n",
            "Epoch 33, Loss: 0.03811643699006334\n",
            " Loss: 0.02345098927617073\n",
            "Epoch 34, Loss: 0.03649225887253698\n",
            " Loss: 0.0072622052393853664\n",
            "Epoch 35, Loss: 0.034872246558280556\n",
            " Loss: 0.047492437064647675\n",
            "Epoch 36, Loss: 0.03324405044249729\n",
            " Loss: 0.016801713034510612\n",
            "Epoch 37, Loss: 0.031630351130705656\n",
            " Loss: 0.027097424492239952\n",
            "Epoch 38, Loss: 0.030246648102202442\n",
            " Loss: 0.0047401441261172295\n",
            "Epoch 39, Loss: 0.028892327692540392\n",
            " Loss: 0.007916647009551525\n",
            "Epoch 40, Loss: 0.027589007692812667\n",
            " Loss: 0.03224778547883034\n",
            "Epoch 41, Loss: 0.02602640565346752\n",
            " Loss: 0.009408591315150261\n",
            "Epoch 42, Loss: 0.025080671620198777\n",
            " Loss: 0.027886537835001945\n",
            "Epoch 43, Loss: 0.02380031473606503\n",
            " Loss: 0.04092855378985405\n",
            "Epoch 44, Loss: 0.0228698964805098\n",
            " Loss: 0.0022782576270401478\n",
            "Epoch 45, Loss: 0.021703383939684247\n",
            " Loss: 0.02239086665213108\n",
            "Epoch 46, Loss: 0.02079344014731496\n",
            " Loss: 0.007659402675926685\n",
            "Epoch 47, Loss: 0.01988060624802362\n",
            " Loss: 0.0016658464446663857\n",
            "Epoch 48, Loss: 0.01891109824373222\n",
            " Loss: 0.022740239277482033\n",
            "Epoch 49, Loss: 0.0182455247821612\n",
            " Loss: 0.027990147471427917\n",
            "Epoch 50, Loss: 0.01728342711128223\n",
            " Loss: 0.01396167278289795\n",
            "Training is finished!\n"
          ]
        }
      ]
    },
    {
      "cell_type": "code",
      "source": [
        "# TODO: plot the model complexity graph\n",
        "import matplotlib.pyplot as plt\n",
        "import numpy as np\n",
        "epoch_list = np.arange(50)\n",
        "plt.plot(epoch_list, hist_training_loss, label='Training loss')\n",
        "plt.plot(epoch_list, hist_test_loss, label='Test loss')\n",
        "plt.xlabel('Epochs')\n",
        "plt.ylabel('Loss')\n",
        "plt.grid()\n",
        "plt.legend()\n",
        "plt.title('Training and Test Losses')\n",
        "plt.show()"
      ],
      "metadata": {
        "colab": {
          "base_uri": "https://localhost:8080/",
          "height": 809
        },
        "id": "VWFfsSpjm7ym",
        "outputId": "3218e64e-8937-4c2c-cbe2-627aed1470d1"
      },
      "execution_count": 6,
      "outputs": [
        {
          "output_type": "error",
          "ename": "ValueError",
          "evalue": "ignored",
          "traceback": [
            "\u001b[0;31m---------------------------------------------------------------------------\u001b[0m",
            "\u001b[0;31mValueError\u001b[0m                                Traceback (most recent call last)",
            "\u001b[0;32m<ipython-input-6-7d147c41a717>\u001b[0m in \u001b[0;36m<cell line: 5>\u001b[0;34m()\u001b[0m\n\u001b[1;32m      3\u001b[0m \u001b[0;32mimport\u001b[0m \u001b[0mnumpy\u001b[0m \u001b[0;32mas\u001b[0m \u001b[0mnp\u001b[0m\u001b[0;34m\u001b[0m\u001b[0;34m\u001b[0m\u001b[0m\n\u001b[1;32m      4\u001b[0m \u001b[0mepoch_list\u001b[0m \u001b[0;34m=\u001b[0m \u001b[0mnp\u001b[0m\u001b[0;34m.\u001b[0m\u001b[0marange\u001b[0m\u001b[0;34m(\u001b[0m\u001b[0;36m50\u001b[0m\u001b[0;34m)\u001b[0m\u001b[0;34m\u001b[0m\u001b[0;34m\u001b[0m\u001b[0m\n\u001b[0;32m----> 5\u001b[0;31m \u001b[0mplt\u001b[0m\u001b[0;34m.\u001b[0m\u001b[0mplot\u001b[0m\u001b[0;34m(\u001b[0m\u001b[0mepoch_list\u001b[0m\u001b[0;34m,\u001b[0m \u001b[0mhist_training_loss\u001b[0m\u001b[0;34m,\u001b[0m \u001b[0mlabel\u001b[0m\u001b[0;34m=\u001b[0m\u001b[0;34m'Training loss'\u001b[0m\u001b[0;34m)\u001b[0m\u001b[0;34m\u001b[0m\u001b[0;34m\u001b[0m\u001b[0m\n\u001b[0m\u001b[1;32m      6\u001b[0m \u001b[0mplt\u001b[0m\u001b[0;34m.\u001b[0m\u001b[0mplot\u001b[0m\u001b[0;34m(\u001b[0m\u001b[0mepoch_list\u001b[0m\u001b[0;34m,\u001b[0m \u001b[0mhist_test_loss\u001b[0m\u001b[0;34m,\u001b[0m \u001b[0mlabel\u001b[0m\u001b[0;34m=\u001b[0m\u001b[0;34m'Test loss'\u001b[0m\u001b[0;34m)\u001b[0m\u001b[0;34m\u001b[0m\u001b[0;34m\u001b[0m\u001b[0m\n\u001b[1;32m      7\u001b[0m \u001b[0mplt\u001b[0m\u001b[0;34m.\u001b[0m\u001b[0mxlabel\u001b[0m\u001b[0;34m(\u001b[0m\u001b[0;34m'Epochs'\u001b[0m\u001b[0;34m)\u001b[0m\u001b[0;34m\u001b[0m\u001b[0;34m\u001b[0m\u001b[0m\n",
            "\u001b[0;32m/usr/local/lib/python3.10/dist-packages/matplotlib/pyplot.py\u001b[0m in \u001b[0;36mplot\u001b[0;34m(scalex, scaley, data, *args, **kwargs)\u001b[0m\n\u001b[1;32m   2810\u001b[0m \u001b[0;34m@\u001b[0m\u001b[0m_copy_docstring_and_deprecators\u001b[0m\u001b[0;34m(\u001b[0m\u001b[0mAxes\u001b[0m\u001b[0;34m.\u001b[0m\u001b[0mplot\u001b[0m\u001b[0;34m)\u001b[0m\u001b[0;34m\u001b[0m\u001b[0;34m\u001b[0m\u001b[0m\n\u001b[1;32m   2811\u001b[0m \u001b[0;32mdef\u001b[0m \u001b[0mplot\u001b[0m\u001b[0;34m(\u001b[0m\u001b[0;34m*\u001b[0m\u001b[0margs\u001b[0m\u001b[0;34m,\u001b[0m \u001b[0mscalex\u001b[0m\u001b[0;34m=\u001b[0m\u001b[0;32mTrue\u001b[0m\u001b[0;34m,\u001b[0m \u001b[0mscaley\u001b[0m\u001b[0;34m=\u001b[0m\u001b[0;32mTrue\u001b[0m\u001b[0;34m,\u001b[0m \u001b[0mdata\u001b[0m\u001b[0;34m=\u001b[0m\u001b[0;32mNone\u001b[0m\u001b[0;34m,\u001b[0m \u001b[0;34m**\u001b[0m\u001b[0mkwargs\u001b[0m\u001b[0;34m)\u001b[0m\u001b[0;34m:\u001b[0m\u001b[0;34m\u001b[0m\u001b[0;34m\u001b[0m\u001b[0m\n\u001b[0;32m-> 2812\u001b[0;31m     return gca().plot(\n\u001b[0m\u001b[1;32m   2813\u001b[0m         \u001b[0;34m*\u001b[0m\u001b[0margs\u001b[0m\u001b[0;34m,\u001b[0m \u001b[0mscalex\u001b[0m\u001b[0;34m=\u001b[0m\u001b[0mscalex\u001b[0m\u001b[0;34m,\u001b[0m \u001b[0mscaley\u001b[0m\u001b[0;34m=\u001b[0m\u001b[0mscaley\u001b[0m\u001b[0;34m,\u001b[0m\u001b[0;34m\u001b[0m\u001b[0;34m\u001b[0m\u001b[0m\n\u001b[1;32m   2814\u001b[0m         **({\"data\": data} if data is not None else {}), **kwargs)\n",
            "\u001b[0;32m/usr/local/lib/python3.10/dist-packages/matplotlib/axes/_axes.py\u001b[0m in \u001b[0;36mplot\u001b[0;34m(self, scalex, scaley, data, *args, **kwargs)\u001b[0m\n\u001b[1;32m   1686\u001b[0m         \"\"\"\n\u001b[1;32m   1687\u001b[0m         \u001b[0mkwargs\u001b[0m \u001b[0;34m=\u001b[0m \u001b[0mcbook\u001b[0m\u001b[0;34m.\u001b[0m\u001b[0mnormalize_kwargs\u001b[0m\u001b[0;34m(\u001b[0m\u001b[0mkwargs\u001b[0m\u001b[0;34m,\u001b[0m \u001b[0mmlines\u001b[0m\u001b[0;34m.\u001b[0m\u001b[0mLine2D\u001b[0m\u001b[0;34m)\u001b[0m\u001b[0;34m\u001b[0m\u001b[0;34m\u001b[0m\u001b[0m\n\u001b[0;32m-> 1688\u001b[0;31m         \u001b[0mlines\u001b[0m \u001b[0;34m=\u001b[0m \u001b[0;34m[\u001b[0m\u001b[0;34m*\u001b[0m\u001b[0mself\u001b[0m\u001b[0;34m.\u001b[0m\u001b[0m_get_lines\u001b[0m\u001b[0;34m(\u001b[0m\u001b[0;34m*\u001b[0m\u001b[0margs\u001b[0m\u001b[0;34m,\u001b[0m \u001b[0mdata\u001b[0m\u001b[0;34m=\u001b[0m\u001b[0mdata\u001b[0m\u001b[0;34m,\u001b[0m \u001b[0;34m**\u001b[0m\u001b[0mkwargs\u001b[0m\u001b[0;34m)\u001b[0m\u001b[0;34m]\u001b[0m\u001b[0;34m\u001b[0m\u001b[0;34m\u001b[0m\u001b[0m\n\u001b[0m\u001b[1;32m   1689\u001b[0m         \u001b[0;32mfor\u001b[0m \u001b[0mline\u001b[0m \u001b[0;32min\u001b[0m \u001b[0mlines\u001b[0m\u001b[0;34m:\u001b[0m\u001b[0;34m\u001b[0m\u001b[0;34m\u001b[0m\u001b[0m\n\u001b[1;32m   1690\u001b[0m             \u001b[0mself\u001b[0m\u001b[0;34m.\u001b[0m\u001b[0madd_line\u001b[0m\u001b[0;34m(\u001b[0m\u001b[0mline\u001b[0m\u001b[0;34m)\u001b[0m\u001b[0;34m\u001b[0m\u001b[0;34m\u001b[0m\u001b[0m\n",
            "\u001b[0;32m/usr/local/lib/python3.10/dist-packages/matplotlib/axes/_base.py\u001b[0m in \u001b[0;36m__call__\u001b[0;34m(self, data, *args, **kwargs)\u001b[0m\n\u001b[1;32m    309\u001b[0m                 \u001b[0mthis\u001b[0m \u001b[0;34m+=\u001b[0m \u001b[0margs\u001b[0m\u001b[0;34m[\u001b[0m\u001b[0;36m0\u001b[0m\u001b[0;34m]\u001b[0m\u001b[0;34m,\u001b[0m\u001b[0;34m\u001b[0m\u001b[0;34m\u001b[0m\u001b[0m\n\u001b[1;32m    310\u001b[0m                 \u001b[0margs\u001b[0m \u001b[0;34m=\u001b[0m \u001b[0margs\u001b[0m\u001b[0;34m[\u001b[0m\u001b[0;36m1\u001b[0m\u001b[0;34m:\u001b[0m\u001b[0;34m]\u001b[0m\u001b[0;34m\u001b[0m\u001b[0;34m\u001b[0m\u001b[0m\n\u001b[0;32m--> 311\u001b[0;31m             yield from self._plot_args(\n\u001b[0m\u001b[1;32m    312\u001b[0m                 this, kwargs, ambiguous_fmt_datakey=ambiguous_fmt_datakey)\n\u001b[1;32m    313\u001b[0m \u001b[0;34m\u001b[0m\u001b[0m\n",
            "\u001b[0;32m/usr/local/lib/python3.10/dist-packages/matplotlib/axes/_base.py\u001b[0m in \u001b[0;36m_plot_args\u001b[0;34m(self, tup, kwargs, return_kwargs, ambiguous_fmt_datakey)\u001b[0m\n\u001b[1;32m    502\u001b[0m \u001b[0;34m\u001b[0m\u001b[0m\n\u001b[1;32m    503\u001b[0m         \u001b[0;32mif\u001b[0m \u001b[0mx\u001b[0m\u001b[0;34m.\u001b[0m\u001b[0mshape\u001b[0m\u001b[0;34m[\u001b[0m\u001b[0;36m0\u001b[0m\u001b[0;34m]\u001b[0m \u001b[0;34m!=\u001b[0m \u001b[0my\u001b[0m\u001b[0;34m.\u001b[0m\u001b[0mshape\u001b[0m\u001b[0;34m[\u001b[0m\u001b[0;36m0\u001b[0m\u001b[0;34m]\u001b[0m\u001b[0;34m:\u001b[0m\u001b[0;34m\u001b[0m\u001b[0;34m\u001b[0m\u001b[0m\n\u001b[0;32m--> 504\u001b[0;31m             raise ValueError(f\"x and y must have same first dimension, but \"\n\u001b[0m\u001b[1;32m    505\u001b[0m                              f\"have shapes {x.shape} and {y.shape}\")\n\u001b[1;32m    506\u001b[0m         \u001b[0;32mif\u001b[0m \u001b[0mx\u001b[0m\u001b[0;34m.\u001b[0m\u001b[0mndim\u001b[0m \u001b[0;34m>\u001b[0m \u001b[0;36m2\u001b[0m \u001b[0;32mor\u001b[0m \u001b[0my\u001b[0m\u001b[0;34m.\u001b[0m\u001b[0mndim\u001b[0m \u001b[0;34m>\u001b[0m \u001b[0;36m2\u001b[0m\u001b[0;34m:\u001b[0m\u001b[0;34m\u001b[0m\u001b[0;34m\u001b[0m\u001b[0m\n",
            "\u001b[0;31mValueError\u001b[0m: x and y must have same first dimension, but have shapes (50,) and (46900,)"
          ]
        },
        {
          "output_type": "display_data",
          "data": {
            "text/plain": [
              "<Figure size 640x480 with 1 Axes>"
            ],
            "image/png": "[encoded data removed]"
          },
          "metadata": {}
        }
      ]
    },
    {
      "cell_type": "markdown",
      "source": [
        "## Implementing Early Stopping 🛑"
      ],
      "metadata": {
        "id": "Jt9x3Wj64aZx"
      }
    },
    {
      "cell_type": "markdown",
      "source": [
        "# What does min_delta and patience refer to ?\n",
        "*   min_delta: le min pour le changement de loss\n",
        "*   patient : après un certain nombre de patient si il n'aura pas d'amélioration du model stop l'entrennement\n",
        "\n"
      ],
      "metadata": {
        "id": "gYjM19cc9WUw"
      }
    },
    {
      "cell_type": "code",
      "source": [
        "# TODO: Complete this code to implement Early stopping\n",
        "patience = 5\n",
        "min_delta = 0.01\n",
        "best_loss = None\n",
        "patience_counter = 0\n",
        "\n",
        "# Training loop with early stopping\n",
        "for epoch in range(num_epochs):\n",
        "    model.train()\n",
        "    running_loss = 0.0\n",
        "    for images, labels in train_loader:\n",
        "        # Training pass\n",
        "\n",
        "        running_loss += loss.item()\n",
        "\n",
        "    # evaluation phase\n",
        "    model.eval()\n",
        "    validation_loss = 0.0\n",
        "    with torch.no_grad():\n",
        "        for images, labels in test_loader:\n",
        "            output = model(images)\n",
        "            validation_loss += loss.item()\n",
        "\n",
        "    # Calculate average losses\n",
        "    training_loss = running_loss / len(train_loader)\n",
        "    validation_loss /= len(test_loader)\n",
        "\n",
        "    print(f\"Epoch {epoch+1}, Training Loss: {training_loss}, Validation Loss: {validation_loss}\")\n",
        "\n",
        "    # Early stopping logic\n",
        "    if best_loss is None or validation_loss < best_loss - min_delta:\n",
        "        best_loss = validation_loss\n",
        "        patience_counter = 0\n",
        "    else:\n",
        "        patience_counter += 1\n",
        "        if patience_counter >= patience:\n",
        "            print(\"Early stopping triggered!\")\n",
        "            break\n",
        "\n",
        "print(\"Training is finished!\")"
      ],
      "metadata": {
        "colab": {
          "base_uri": "https://localhost:8080/"
        },
        "id": "g3TryrSN5-U2",
        "outputId": "530a8841-bbec-48d5-bb66-1bf8429d18ae"
      },
      "execution_count": 8,
      "outputs": [
        {
          "output_type": "stream",
          "name": "stdout",
          "text": [
            "Epoch 1, Training Loss: 0.01396167278289795, Validation Loss: 0.01396167278289795\n",
            "Epoch 2, Training Loss: 0.01396167278289795, Validation Loss: 0.01396167278289795\n",
            "Epoch 3, Training Loss: 0.01396167278289795, Validation Loss: 0.01396167278289795\n",
            "Epoch 4, Training Loss: 0.01396167278289795, Validation Loss: 0.01396167278289795\n",
            "Epoch 5, Training Loss: 0.01396167278289795, Validation Loss: 0.01396167278289795\n",
            "Epoch 6, Training Loss: 0.01396167278289795, Validation Loss: 0.01396167278289795\n",
            "Early stopping triggered!\n",
            "Training is finished!\n"
          ]
        }
      ]
    },
    {
      "cell_type": "markdown",
      "source": [
        "Experimenting with Dropout"
      ],
      "metadata": {
        "id": "VyEoEIZwBTK8"
      }
    },
    {
      "cell_type": "code",
      "source": [
        "class NetWithDropout(nn.Module):\n",
        "    def __init__(self):\n",
        "        super(NetWithDropout, self).__init__()\n",
        "        # Define layers of the neural network\n",
        "        self.fc1 = nn.Linear(28 * 28, 128)\n",
        "        self.dropout1 = nn.Dropout()  # Dropout layer with 20% probability\n",
        "        self.fc2 = nn.Linear(128, 64)\n",
        "        self.dropout2 = nn.Dropout()  # Dropout layer with 50% probability\n",
        "        self.fc3 = nn.Linear(64, 10)\n",
        "\n",
        "    def forward(self, x):\n",
        "        # Flatten the input tensor\n",
        "        x = x.view(-1, 28 * 28)\n",
        "        # Forward pass with dropout\n",
        "        x = F.relu(self.fc1(x))\n",
        "        x = self.dropout1(x)\n",
        "        x = F.relu(self.fc2(x))\n",
        "        x = self.dropout2(x)\n",
        "        x = self.fc3(x)\n",
        "        return x\n",
        "\n",
        "# Create an instance of the network with dropout\n",
        "model_with_dropout = NetWithDropout()\n",
        "print(model_with_dropout)"
      ],
      "metadata": {
        "colab": {
          "base_uri": "https://localhost:8080/"
        },
        "id": "aysL2O3QBUMq",
        "outputId": "c4fa8d12-f479-4421-f321-1d510d7c8052"
      },
      "execution_count": 9,
      "outputs": [
        {
          "output_type": "stream",
          "name": "stdout",
          "text": [
            "NetWithDropout(\n",
            "  (fc1): Linear(in_features=784, out_features=128, bias=True)\n",
            "  (dropout1): Dropout(p=0.5, inplace=False)\n",
            "  (fc2): Linear(in_features=128, out_features=64, bias=True)\n",
            "  (dropout2): Dropout(p=0.5, inplace=False)\n",
            "  (fc3): Linear(in_features=64, out_features=10, bias=True)\n",
            ")\n"
          ]
        }
      ]
    },
    {
      "cell_type": "code",
      "source": [
        "# TODO: Train the dropout model\n",
        "import torch.optim as optim\n",
        "criterion = nn.CrossEntropyLoss()\n",
        "optimizer = SGD(model_with_dropout.parameters(), lr=0.01)\n",
        "\n",
        "# TODO: Set the number of epochs\n",
        "num_epochs = 10\n",
        "\n",
        "for epoch in range(num_epochs):\n",
        "    running_loss = 0.0\n",
        "    for inputs, labels in train_loader:\n",
        "       # TODO: Complete Training pass\n",
        "        optimizer.zero_grad()\n",
        "\n",
        "        outputs = model_with_dropout(inputs)\n",
        "        loss = criterion(outputs, labels)  # Compute the loss\n",
        "\n",
        "        loss.backward() # computes gradients\n",
        "        optimizer.step() # adjust the weights\n",
        "\n",
        "        running_loss += loss.item()\n",
        "\n",
        "    print(f\"Epoch {epoch+1}, Loss: {running_loss/len(train_loader)}\")\n",
        "\n",
        " # TODO: evaluate on the test_loader\n",
        "    test_loss = 0.0\n",
        "with torch.no_grad(): # don't compute any gradients\n",
        "    for images, labels in test_loader:\n",
        "          # TODO: Complete evaluation pass\n",
        "          outputs = model_with_dropout(inputs)\n",
        "\n",
        "print(\"Training is finished!\")"
      ],
      "metadata": {
        "id": "TBNuaAo2BbB5",
        "colab": {
          "base_uri": "https://localhost:8080/"
        },
        "outputId": "59832bdb-c60f-487d-9f76-b7570bb0a083"
      },
      "execution_count": 10,
      "outputs": [
        {
          "output_type": "stream",
          "name": "stdout",
          "text": [
            "Epoch 1, Loss: 1.5288944677122112\n",
            "Epoch 2, Loss: 0.7801803565546394\n",
            "Epoch 3, Loss: 0.611641707387306\n",
            "Epoch 4, Loss: 0.5388104158646262\n",
            "Epoch 5, Loss: 0.48881178633617695\n",
            "Epoch 6, Loss: 0.4476210223491004\n",
            "Epoch 7, Loss: 0.42099158872546416\n",
            "Epoch 8, Loss: 0.40017324760715084\n",
            "Epoch 9, Loss: 0.37337912077397933\n",
            "Epoch 10, Loss: 0.36126708556244624\n",
            "Training is finished!\n"
          ]
        }
      ]
    }
  ]
}